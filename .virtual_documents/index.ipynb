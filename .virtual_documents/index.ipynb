


from scipy.spatial.distance import euclidean
import numpy as np








# Define the KNN class with two empty methods - fit and predict

class KNN:
    def __init__(self):
        self.X_train = None
        self.y_train = None





# Implementing the fit method
def fit(self, X_train, y_train):
    self.X_train = X_train
    self.y_train = y_train

# This line updates the knn.fit method to point to the function you've just written
KNN.fit = fit





# Implementing the _get_distances helper

def _get_distances(self, x):
    distances = []
    for idx, point in enumerate(self.X_train):
        dist = euclidean(x, point)
        distances.append((idx, dist))
    return distances

# This line attaches the function you just created as a method to KNN class 
KNN._get_distances = _get_distances





# Implementing _get_k_nearest helper

def _get_k_nearest(self, dists, k):
    sorted_dists = sorted(dists, key=lambda x: x[1])
    return sorted_dists[:k]
    
# This line attaches the function you just created as a method to KNN class 
KNN._get_k_nearest = _get_k_nearest





# Implementing _get_label_prediction helper
def _get_label_prediction(self, k_nearest):
    labels = [self.y_train[idx] for idx, _ in k_nearest]
    counts = np.bincount(labels)
    return np.argmax(counts)

# This line attaches the function you just created as a method to KNN class
KNN._get_label_prediction = _get_label_prediction





# Implemening the predict method

def predict(self, X_test, k=3):
    preds = []
    for x in X_test:
        dists = self._get_distances(x)
        k_nearest = self._get_k_nearest(dists, k)
        label = self._get_label_prediction(k_nearest)
        preds.append(label)
    return preds

# This line updates the knn.predict method to point to the function you've just written
KNN.predict = predict





# Import the necessary functions
from sklearn.datasets import load_iris
from sklearn.model_selection import train_test_split
from sklearn.metrics import accuracy_score

# Loading the Iris dataset
iris = load_iris()
data = iris.data
target = iris.target





# Splitting the data into training and test sets

X_train, X_test, y_train, y_test = train_test_split(data, target, test_size=0.25, random_state=0)





# Instantiate and fit KNN

knn = KNN()
knn.fit(X_train, y_train)





# Generate predictions
preds = knn.predict(X_test)





# Expected Output: Testing Accuracy: 0.9736842105263158

print("Testing Accuracy: {}".format(accuracy_score(y_test, preds)))



